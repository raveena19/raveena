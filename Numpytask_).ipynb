{
  "nbformat": 4,
  "nbformat_minor": 0,
  "metadata": {
    "colab": {
      "provenance": []
    },
    "kernelspec": {
      "name": "python3",
      "display_name": "Python 3"
    },
    "language_info": {
      "name": "python"
    }
  },
  "cells": [
    {
      "cell_type": "code",
      "execution_count": null,
      "metadata": {
        "id": "k9X3rXGIXtEy",
        "colab": {
          "base_uri": "https://localhost:8080/"
        },
        "outputId": "77a370bc-eef4-4db9-de5d-95a7e1daf193"
      },
      "outputs": [
        {
          "output_type": "stream",
          "name": "stdout",
          "text": [
            "array: [1 2 3 4 5]\n"
          ]
        }
      ],
      "source": [
        "import numpy as n\n",
        "#create an array\n",
        "array=n.array([1,2,3,4,5])\n",
        "print(\"array:\", array)"
      ]
    },
    {
      "cell_type": "code",
      "source": [
        "#0D\n",
        "a=n.array(4)\n",
        "print (\"0D\",a)\n",
        "ar=n.array([1,25,63,])\n",
        "print(\"1D\",ar)\n",
        "arr=n.array([[1,2,3,],[4,5,6]])\n",
        "print(\"2D\",arr)\n",
        "print(arr.ndim)\n",
        "arra=n.array([[[1,2,3],[10,11,12],[7,8,9]]])\n",
        "print(\"3D\",arra)\n",
        "print(arra.ndim)\n",
        "#slicing\n",
        "print(\"slicing 1D:\",ar[0:2])\n",
        "print(\"slicing 2D:\",arr[1:2])\n",
        "print(\"slicing 3D:\",arra[1:2])"
      ],
      "metadata": {
        "id": "a2zVKUMiqJYZ",
        "colab": {
          "base_uri": "https://localhost:8080/"
        },
        "outputId": "1d4a2133-22c9-489b-fbde-f46663a4bd14"
      },
      "execution_count": null,
      "outputs": [
        {
          "output_type": "stream",
          "name": "stdout",
          "text": [
            "0D 4\n",
            "1D [ 1 25 63]\n",
            "2D [[1 2 3]\n",
            " [4 5 6]]\n",
            "2\n",
            "3D [[[ 1  2  3]\n",
            "  [10 11 12]\n",
            "  [ 7  8  9]]]\n",
            "3\n",
            "slicing 1D: [ 1 25]\n",
            "slicing 2D: [[4 5 6]]\n",
            "slicing 3D: []\n"
          ]
        }
      ]
    },
    {
      "cell_type": "code",
      "source": [
        "#creating arrays with zeros & ones\n",
        "import numpy as n\n",
        "n.zeros((3,4))\n"
      ],
      "metadata": {
        "colab": {
          "base_uri": "https://localhost:8080/"
        },
        "id": "TsCxU6Kd1dus",
        "outputId": "3eb49588-cc2e-4b52-9fbb-a30f4346d31a"
      },
      "execution_count": null,
      "outputs": [
        {
          "output_type": "execute_result",
          "data": {
            "text/plain": [
              "array([[[1., 1., 1., 1.],\n",
              "        [1., 1., 1., 1.],\n",
              "        [1., 1., 1., 1.]],\n",
              "\n",
              "       [[1., 1., 1., 1.],\n",
              "        [1., 1., 1., 1.],\n",
              "        [1., 1., 1., 1.]]])"
            ]
          },
          "metadata": {},
          "execution_count": 1
        }
      ]
    },
    {
      "cell_type": "code",
      "source": [
        "#creating ones\n",
        "n.ones((2,3,4))"
      ],
      "metadata": {
        "colab": {
          "base_uri": "https://localhost:8080/"
        },
        "id": "fDUzwzg0qRc_",
        "outputId": "1062b5fd-a542-4d06-b7c5-52ceb5057b8b"
      },
      "execution_count": null,
      "outputs": [
        {
          "output_type": "execute_result",
          "data": {
            "text/plain": [
              "array([[[1., 1., 1., 1.],\n",
              "        [1., 1., 1., 1.],\n",
              "        [1., 1., 1., 1.]],\n",
              "\n",
              "       [[1., 1., 1., 1.],\n",
              "        [1., 1., 1., 1.],\n",
              "        [1., 1., 1., 1.]]])"
            ]
          },
          "metadata": {},
          "execution_count": 4
        }
      ]
    },
    {
      "cell_type": "code",
      "source": [
        "#creat an array with range of values\n",
        "import numpy as np\n",
        "d= np.arange(10,26,5)\n",
        "print(d)"
      ],
      "metadata": {
        "colab": {
          "base_uri": "https://localhost:8080/"
        },
        "id": "MW5318D1rEVV",
        "outputId": "e1f058ef-5768-48e4-a89c-3d2dc82280a5"
      },
      "execution_count": null,
      "outputs": [
        {
          "output_type": "stream",
          "name": "stdout",
          "text": [
            "[10 15 20 25]\n"
          ]
        }
      ]
    },
    {
      "cell_type": "code",
      "source": [
        "#array with evenly spaced values\n",
        "print(np.linspace(0,2,9))\n",
        "e=np.full((2,2),7)\n",
        "print(e)"
      ],
      "metadata": {
        "colab": {
          "base_uri": "https://localhost:8080/"
        },
        "id": "dm1bgUairXLt",
        "outputId": "1b45dace-0e9a-456a-c796-4d2bd34e243e"
      },
      "execution_count": null,
      "outputs": [
        {
          "output_type": "stream",
          "name": "stdout",
          "text": [
            "[0.   0.25 0.5  0.75 1.   1.25 1.5  1.75 2.  ]\n"
          ]
        }
      ]
    },
    {
      "cell_type": "code",
      "source": [
        "#identity matrix\n",
        "f=np.eye(3)\n",
        "print(f)"
      ],
      "metadata": {
        "colab": {
          "base_uri": "https://localhost:8080/"
        },
        "id": "zjbLejxNr6u_",
        "outputId": "1b377acb-5afb-4a46-92f5-44bb18b88a52"
      },
      "execution_count": null,
      "outputs": [
        {
          "output_type": "stream",
          "name": "stdout",
          "text": [
            "[[1. 0. 0.]\n",
            " [0. 1. 0.]\n",
            " [0. 0. 1.]]\n"
          ]
        }
      ]
    },
    {
      "cell_type": "code",
      "source": [
        "#returns dimension of array\n",
        "arr=n.array([[1,2,3,],[4,5,6]])\n",
        "arr.shape"
      ],
      "metadata": {
        "colab": {
          "base_uri": "https://localhost:8080/"
        },
        "id": "cneYJdajtkN-",
        "outputId": "b2ab47cd-7782-4d55-d2d3-4d2ecd1ca460"
      },
      "execution_count": null,
      "outputs": [
        {
          "output_type": "execute_result",
          "data": {
            "text/plain": [
              "(2, 3)"
            ]
          },
          "metadata": {},
          "execution_count": 9
        }
      ]
    },
    {
      "cell_type": "code",
      "source": [
        "#returns the no of dim\n",
        "arr=n.array([[1,2,3,],[4,5,6]])\n",
        "print(\"2D\",arr)\n",
        "print(arr.ndim)\n",
        "arra=n.array([[[1,2,3],[10,11,12],[7,8,9]]])\n",
        "print(\"3D\",arra)\n",
        "print(arra.ndim)"
      ],
      "metadata": {
        "colab": {
          "base_uri": "https://localhost:8080/"
        },
        "id": "uCy1dHCZsmFE",
        "outputId": "20badbc9-e45f-4e3b-8588-1dba541ca2eb"
      },
      "execution_count": null,
      "outputs": [
        {
          "output_type": "stream",
          "name": "stdout",
          "text": [
            "2D [[1 2 3]\n",
            " [4 5 6]]\n",
            "2\n",
            "3D [[[ 1  2  3]\n",
            "  [10 11 12]\n",
            "  [ 7  8  9]]]\n",
            "3\n"
          ]
        }
      ]
    },
    {
      "cell_type": "code",
      "source": [
        "#returns tot no of element\n",
        "arr.size\n",
        "arra.size"
      ],
      "metadata": {
        "colab": {
          "base_uri": "https://localhost:8080/"
        },
        "id": "eJCYQWlbuPKn",
        "outputId": "4d77963c-c911-4392-b1cd-bf2604deca36"
      },
      "execution_count": null,
      "outputs": [
        {
          "output_type": "execute_result",
          "data": {
            "text/plain": [
              "9"
            ]
          },
          "metadata": {},
          "execution_count": 5
        }
      ]
    },
    {
      "cell_type": "code",
      "source": [
        "#returns the dtype of element\n",
        "arr=n.array([[1,2,3,],[4,5,6]])\n",
        "arra=n.array([[[1,2,3],[10,11,12],[7,8,9]]])\n",
        "arr.dtype\n",
        "arra.dtype"
      ],
      "metadata": {
        "colab": {
          "base_uri": "https://localhost:8080/"
        },
        "id": "Mg-l7jGTvDIw",
        "outputId": "8c9903ee-e3f5-4d8f-87dc-d2d6da9091ad"
      },
      "execution_count": null,
      "outputs": [
        {
          "output_type": "execute_result",
          "data": {
            "text/plain": [
              "dtype('int64')"
            ]
          },
          "metadata": {},
          "execution_count": 6
        }
      ]
    },
    {
      "cell_type": "code",
      "source": [
        "#array operations\n",
        "#addition\n",
        "# Create two NumPy arrays\n",
        "array1 = np.array([1, 2, 3])\n",
        "array2 = np.array([4, 5, 6])\n",
        "result = np.add(array1, array2)\n",
        "\n",
        "#display the result\n",
        "print(\"Array 1:\", array1)\n",
        "print(\"Array 2:\", array2)\n",
        "print(\"Result of addition:\", result)\n"
      ],
      "metadata": {
        "colab": {
          "base_uri": "https://localhost:8080/"
        },
        "id": "Al8ixVnHVK6U",
        "outputId": "8f6b6692-040d-400f-e6fa-c22480c036ec"
      },
      "execution_count": null,
      "outputs": [
        {
          "output_type": "stream",
          "name": "stdout",
          "text": [
            "Array 1: [1 2 3]\n",
            "Array 2: [4 5 6]\n",
            "Result of addition: [5 7 9]\n"
          ]
        }
      ]
    },
    {
      "cell_type": "code",
      "source": [
        "#subtraction\n",
        "print(\"sub:\",np.subtract(array1,array2))"
      ],
      "metadata": {
        "colab": {
          "base_uri": "https://localhost:8080/"
        },
        "id": "BBSq7WI1XPuR",
        "outputId": "519c74c4-411b-4e5a-9519-5077dd20cd99"
      },
      "execution_count": null,
      "outputs": [
        {
          "output_type": "stream",
          "name": "stdout",
          "text": [
            "sub: [-3 -3 -3]\n"
          ]
        }
      ]
    },
    {
      "cell_type": "code",
      "source": [
        "#multiplication\n",
        "print(\"mul:\",np.multiply(array1,array2))"
      ],
      "metadata": {
        "colab": {
          "base_uri": "https://localhost:8080/"
        },
        "id": "lCkqrDKTXkaT",
        "outputId": "ec883e9b-1747-453f-b4be-db27aa780182"
      },
      "execution_count": null,
      "outputs": [
        {
          "output_type": "stream",
          "name": "stdout",
          "text": [
            "mul: [ 4 10 18]\n"
          ]
        }
      ]
    },
    {
      "cell_type": "code",
      "source": [
        "#divide\n",
        "print(\"div\",np.divide(array1,array2))\n",
        "#dot product of two arrays\n",
        "print(np.dot(array1,array2))"
      ],
      "metadata": {
        "colab": {
          "base_uri": "https://localhost:8080/"
        },
        "id": "qGrhVbKTX9jx",
        "outputId": "01d7cc42-dbd0-4b0c-bf06-fd3868a32f53"
      },
      "execution_count": null,
      "outputs": [
        {
          "output_type": "stream",
          "name": "stdout",
          "text": [
            "div [0.25 0.4  0.5 ]\n",
            "32\n"
          ]
        }
      ]
    },
    {
      "cell_type": "code",
      "source": [
        "#array manipulation\n",
        "#reshape an array\n",
        "array=n.array([[[1,2,3],[10,11,12],[7,8,9]]])\n",
        "print(array.reshape(3,-2))"
      ],
      "metadata": {
        "colab": {
          "base_uri": "https://localhost:8080/"
        },
        "id": "yfAfk5LMYSOL",
        "outputId": "301df049-5754-442d-dd27-42601e53e433"
      },
      "execution_count": null,
      "outputs": [
        {
          "output_type": "stream",
          "name": "stdout",
          "text": [
            "[[ 1  2  3]\n",
            " [10 11 12]\n",
            " [ 7  8  9]]\n"
          ]
        }
      ]
    },
    {
      "cell_type": "code",
      "source": [
        "#concatenation\n",
        "ar=n.array([1,25,63,])\n",
        "c=n.array([1,2,5])\n",
        "print(n.concatenate((c,ar),axis=0))"
      ],
      "metadata": {
        "colab": {
          "base_uri": "https://localhost:8080/"
        },
        "id": "vGBcOSCCZEgm",
        "outputId": "a154d1e5-af2d-48be-ceda-c2c63148001f"
      },
      "execution_count": null,
      "outputs": [
        {
          "output_type": "stream",
          "name": "stdout",
          "text": [
            "[ 1  2  5  1 25 63]\n"
          ]
        }
      ]
    },
    {
      "cell_type": "markdown",
      "source": [],
      "metadata": {
        "id": "CaRALAI1aByQ"
      }
    },
    {
      "cell_type": "code",
      "source": [
        "#split an array into sub-arrays\n",
        "c=n.array([1,2,3,4,5,6])\n",
        "print(n.split(c,3))\n",
        "print(n.split(c,2))"
      ],
      "metadata": {
        "colab": {
          "base_uri": "https://localhost:8080/"
        },
        "id": "j8VRsav8aCJX",
        "outputId": "d5c37382-f729-4a15-dc09-f2101bb0c484"
      },
      "execution_count": null,
      "outputs": [
        {
          "output_type": "stream",
          "name": "stdout",
          "text": [
            "[array([1, 2]), array([3, 4]), array([5, 6])]\n",
            "[array([1, 2, 3]), array([4, 5, 6])]\n"
          ]
        }
      ]
    },
    {
      "cell_type": "code",
      "source": [
        "#transpose an array\n",
        "arr=n.array([[1,2,3,],[4,5,6]])\n",
        "n.transpose(arr)"
      ],
      "metadata": {
        "colab": {
          "base_uri": "https://localhost:8080/"
        },
        "id": "VfQcsllFa--W",
        "outputId": "041620ae-37db-45a7-a886-cca0f1329e3d"
      },
      "execution_count": null,
      "outputs": [
        {
          "output_type": "execute_result",
          "data": {
            "text/plain": [
              "array([[1, 4],\n",
              "       [2, 5],\n",
              "       [3, 6]])"
            ]
          },
          "metadata": {},
          "execution_count": 21
        }
      ]
    },
    {
      "cell_type": "code",
      "source": [
        "#mathematical function\n",
        "#sum of the array\n",
        "import numpy as np\n",
        "ar=np.array([1,25,63,])\n",
        "arr=np.array([[1,2,3,],[4,5,6]])\n",
        "#sum of array)\n",
        "print(ar.sum())\n",
        "\n"
      ],
      "metadata": {
        "colab": {
          "base_uri": "https://localhost:8080/"
        },
        "id": "g-josMq-bOVl",
        "outputId": "2115af97-9a48-4b7d-f532-6c627898d61c"
      },
      "execution_count": null,
      "outputs": [
        {
          "output_type": "stream",
          "name": "stdout",
          "text": [
            "89\n",
            "29.666666666666668\n"
          ]
        }
      ]
    },
    {
      "cell_type": "code",
      "source": [
        "\n",
        "#min and max\n",
        "print(ar.min())\n",
        "print(arr.max(axis=0))"
      ],
      "metadata": {
        "colab": {
          "base_uri": "https://localhost:8080/"
        },
        "id": "gpia57Zsb1-t",
        "outputId": "389f51b7-e6b4-420c-a06b-0ad1cc616585"
      },
      "execution_count": null,
      "outputs": [
        {
          "output_type": "stream",
          "name": "stdout",
          "text": [
            "1\n",
            "[4 5 6]\n"
          ]
        }
      ]
    },
    {
      "cell_type": "code",
      "source": [
        "#median of array elmnts\n",
        "print(np.median(c))"
      ],
      "metadata": {
        "colab": {
          "base_uri": "https://localhost:8080/"
        },
        "id": "WsVpTuBvb-ER",
        "outputId": "afcc6d05-4600-4092-c970-c00df659dd5f"
      },
      "execution_count": null,
      "outputs": [
        {
          "output_type": "stream",
          "name": "stdout",
          "text": [
            "3.5\n"
          ]
        }
      ]
    },
    {
      "cell_type": "code",
      "source": [
        "\n",
        "#mean of array elments\n",
        "print(ar.mean())"
      ],
      "metadata": {
        "colab": {
          "base_uri": "https://localhost:8080/"
        },
        "id": "i2msiCl7cqUM",
        "outputId": "7fe2d74e-ddce-4ab3-b059-5038ba92a0cd"
      },
      "execution_count": null,
      "outputs": [
        {
          "output_type": "stream",
          "name": "stdout",
          "text": [
            "29.666666666666668\n"
          ]
        }
      ]
    },
    {
      "cell_type": "code",
      "source": [
        "#standard deviation\n",
        "print(ar.std())"
      ],
      "metadata": {
        "colab": {
          "base_uri": "https://localhost:8080/"
        },
        "id": "3YGP6PMJdEwY",
        "outputId": "b330afd7-696c-4166-c400-5356672790dd"
      },
      "execution_count": null,
      "outputs": [
        {
          "output_type": "stream",
          "name": "stdout",
          "text": [
            "25.525586292102197\n"
          ]
        }
      ]
    },
    {
      "cell_type": "code",
      "source": [
        "\n",
        "#trignmentry fnc\n",
        "a=n.array(4)\n",
        "print(n.sin(a))\n",
        "print(n.tan(a))\n",
        "print(n.cos(a))"
      ],
      "metadata": {
        "colab": {
          "base_uri": "https://localhost:8080/"
        },
        "id": "0zVB3q1jdZMX",
        "outputId": "4012527d-b0e7-4918-9c27-368ce4726de7"
      },
      "execution_count": null,
      "outputs": [
        {
          "output_type": "stream",
          "name": "stdout",
          "text": [
            "-0.7568024953079282\n",
            "1.1578212823495775\n",
            "-0.6536436208636119\n"
          ]
        }
      ]
    },
    {
      "cell_type": "code",
      "source": [
        "#inverse trignomentric functions\n",
        "print(n.arcsin(a))\n",
        "print(n.arccos(a))\n",
        "print(n.arctan(a))"
      ],
      "metadata": {
        "colab": {
          "base_uri": "https://localhost:8080/"
        },
        "id": "eBiUVE43dvbK",
        "outputId": "5b539514-9f93-440e-94fa-51bd5b80429f"
      },
      "execution_count": null,
      "outputs": [
        {
          "output_type": "stream",
          "name": "stdout",
          "text": [
            "nan\n",
            "nan\n",
            "1.3258176636680326\n"
          ]
        },
        {
          "output_type": "stream",
          "name": "stderr",
          "text": [
            "<ipython-input-34-6d437b9de5a4>:2: RuntimeWarning: invalid value encountered in arcsin\n",
            "  print(n.arcsin(a))\n",
            "<ipython-input-34-6d437b9de5a4>:3: RuntimeWarning: invalid value encountered in arccos\n",
            "  print(n.arccos(a))\n"
          ]
        }
      ]
    },
    {
      "cell_type": "markdown",
      "source": [],
      "metadata": {
        "id": "1iLLf3GZaBu-"
      }
    },
    {
      "cell_type": "code",
      "source": [
        "#random values in given shape\n",
        "print(np.random.rand((2,2)))\n",
        "\n"
      ],
      "metadata": {
        "colab": {
          "base_uri": "https://localhost:8080/"
        },
        "id": "CClzBq8c2iRJ",
        "outputId": "d70f98f8-bc90-47bd-d89e-0d3be5d26d99"
      },
      "execution_count": null,
      "outputs": [
        {
          "output_type": "stream",
          "name": "stdout",
          "text": [
            "[10 15 20]\n",
            "[0.   0.25 0.5  0.75 1.   1.25 1.5  1.75 2.  ]\n",
            "[[7 7]\n",
            " [7 7]]\n",
            "[[1. 0. 0.]\n",
            " [0. 1. 0.]\n",
            " [0. 0. 1.]]\n",
            "[[0.96680052 0.55880297]\n",
            " [0.51715307 0.47327408]]\n",
            "[[4.91418876e-310 0.00000000e+000]\n",
            " [6.95222791e-310 1.63041663e-322]\n",
            " [4.91368251e-310 6.95228309e-310]]\n"
          ]
        }
      ]
    },
    {
      "cell_type": "code",
      "source": [
        "#random values from a standard normal distribution\n",
        "np.random.randn(2,2)\n"
      ],
      "metadata": {
        "colab": {
          "base_uri": "https://localhost:8080/"
        },
        "id": "oo_DHwVcCgkO",
        "outputId": "5c38ed17-9569-42f5-c27d-aad53fb4906a"
      },
      "execution_count": null,
      "outputs": [
        {
          "output_type": "execute_result",
          "data": {
            "text/plain": [
              "array([[-1.46066506,  0.59418438],\n",
              "       [ 2.44345849,  0.58993575]])"
            ]
          },
          "metadata": {},
          "execution_count": 11
        }
      ]
    },
    {
      "cell_type": "code",
      "source": [
        "#random integer\n",
        "np.random.randint(c)"
      ],
      "metadata": {
        "colab": {
          "base_uri": "https://localhost:8080/"
        },
        "id": "RCnnHcmUJdn2",
        "outputId": "8a25d31f-2e31-42de-cb97-a7b78cc425e1"
      },
      "execution_count": null,
      "outputs": [
        {
          "output_type": "execute_result",
          "data": {
            "text/plain": [
              "array([0, 1, 2, 0, 4, 0])"
            ]
          },
          "metadata": {},
          "execution_count": 13
        }
      ]
    },
    {
      "cell_type": "code",
      "source": [
        "#shuffle an array\n",
        "n=np.array([1,23,45,1,5,2])\n",
        "print(n)\n",
        "#before shuffle"
      ],
      "metadata": {
        "colab": {
          "base_uri": "https://localhost:8080/"
        },
        "id": "hMS4UcnUJ-vV",
        "outputId": "cecf9fd0-e796-4271-c4d8-5006d61a0dc5"
      },
      "execution_count": null,
      "outputs": [
        {
          "output_type": "stream",
          "name": "stdout",
          "text": [
            "[ 1 23 45  1  5  2]\n"
          ]
        }
      ]
    },
    {
      "cell_type": "code",
      "source": [
        "#after shuffle\n",
        "np.random.shuffle(n)\n"
      ],
      "metadata": {
        "id": "Cy2NzpSmKxjY"
      },
      "execution_count": null,
      "outputs": []
    },
    {
      "cell_type": "code",
      "source": [
        "#compute the qth percentile\n",
        "d=np.array([1,2,3,4])\n",
        "q=45\n",
        "np.percentile(d,q)\n",
        "\n"
      ],
      "metadata": {
        "colab": {
          "base_uri": "https://localhost:8080/"
        },
        "id": "70iADNwQLgRw",
        "outputId": "d0126f97-f099-48b2-9474-2636bec60225"
      },
      "execution_count": null,
      "outputs": [
        {
          "output_type": "execute_result",
          "data": {
            "text/plain": [
              "2.35"
            ]
          },
          "metadata": {},
          "execution_count": 30
        }
      ]
    },
    {
      "cell_type": "code",
      "source": [
        "#compute the correlation coefficient\n",
        "np.corrcoef(d)"
      ],
      "metadata": {
        "colab": {
          "base_uri": "https://localhost:8080/"
        },
        "id": "Pf0a21hbOToZ",
        "outputId": "314fc22a-2afb-4db9-f2bb-d7b23cee9122"
      },
      "execution_count": null,
      "outputs": [
        {
          "output_type": "execute_result",
          "data": {
            "text/plain": [
              "1.0"
            ]
          },
          "metadata": {},
          "execution_count": 31
        }
      ]
    },
    {
      "cell_type": "code",
      "source": [
        "#logical operation\n",
        "c=np.array([True,False,True])\n",
        "d=np.array([True,False,False])\n",
        "np.logical_and(c,d)"
      ],
      "metadata": {
        "colab": {
          "base_uri": "https://localhost:8080/"
        },
        "id": "Ee8GXEjIPLu_",
        "outputId": "ef095de2-4744-4319-ceca-8e349fae2fe0"
      },
      "execution_count": null,
      "outputs": [
        {
          "output_type": "execute_result",
          "data": {
            "text/plain": [
              "array([ True, False, False])"
            ]
          },
          "metadata": {},
          "execution_count": 34
        }
      ]
    },
    {
      "cell_type": "code",
      "source": [
        "np.logical_or(c,d)"
      ],
      "metadata": {
        "colab": {
          "base_uri": "https://localhost:8080/"
        },
        "id": "svZc-OjRP_UT",
        "outputId": "40a40fa1-93c7-4d84-bfcb-6e735ea98e8a"
      },
      "execution_count": null,
      "outputs": [
        {
          "output_type": "execute_result",
          "data": {
            "text/plain": [
              "array([ True, False,  True])"
            ]
          },
          "metadata": {},
          "execution_count": 35
        }
      ]
    },
    {
      "cell_type": "code",
      "source": [
        "np.logical_not(c,d)"
      ],
      "metadata": {
        "colab": {
          "base_uri": "https://localhost:8080/"
        },
        "id": "QnbRovVzQU4V",
        "outputId": "d3c9d650-5b73-4ee0-a7d4-0f0c5a8d6ca5"
      },
      "execution_count": null,
      "outputs": [
        {
          "output_type": "execute_result",
          "data": {
            "text/plain": [
              "array([False,  True, False])"
            ]
          },
          "metadata": {},
          "execution_count": 36
        }
      ]
    },
    {
      "cell_type": "code",
      "source": [
        "#linear algebra\n",
        "import numpy as np\n",
        "\n",
        "# Create a 2x2 matrix\n",
        "matrix = np.array([[4, 7],\n",
        "                   [2, 6]])\n",
        "\n",
        "# Use np.linalg.inv() to compute the inverse\n",
        "inverse_matrix = np.linalg.inv(matrix)\n",
        "\n",
        "# Print the original and inverse matrices\n",
        "print(\"Original matrix:\")\n",
        "print(matrix)\n",
        "print(\"\\nInverse matrix:\")\n",
        "print(inverse_matrix)\n"
      ],
      "metadata": {
        "colab": {
          "base_uri": "https://localhost:8080/"
        },
        "id": "TXBou66SQcP3",
        "outputId": "fd810d4e-a7fd-44af-c713-3155f059eb44"
      },
      "execution_count": null,
      "outputs": [
        {
          "output_type": "stream",
          "name": "stdout",
          "text": [
            "Original matrix:\n",
            "[[4 7]\n",
            " [2 6]]\n",
            "\n",
            "Inverse matrix:\n",
            "[[ 0.6 -0.7]\n",
            " [-0.2  0.4]]\n"
          ]
        }
      ]
    },
    {
      "cell_type": "code",
      "source": [
        "#determinant of the matrix\n",
        "det_matrix=np.linalg.det(matrix)\n",
        "print(det_matrix)"
      ],
      "metadata": {
        "colab": {
          "base_uri": "https://localhost:8080/"
        },
        "id": "n9iath-FRA21",
        "outputId": "7272ac4e-2344-4dfb-a708-36e8a731ec25"
      },
      "execution_count": null,
      "outputs": [
        {
          "output_type": "stream",
          "name": "stdout",
          "text": [
            "10.000000000000002\n"
          ]
        }
      ]
    },
    {
      "cell_type": "code",
      "source": [
        "#eigenvalues and eigen vectors\n",
        "eigen_v=np.linalg.eig(matrix)"
      ],
      "metadata": {
        "id": "rLUAdPEORkLq"
      },
      "execution_count": null,
      "outputs": []
    },
    {
      "cell_type": "code",
      "source": [
        "#sorting\n",
        "c=np.array([1,3,4,2,6,5])\n",
        "np.sort(c)\n"
      ],
      "metadata": {
        "colab": {
          "base_uri": "https://localhost:8080/"
        },
        "id": "K0_JtEDNDc1n",
        "outputId": "9c8e1d15-7e39-4776-ac48-ac21845ba16b"
      },
      "execution_count": null,
      "outputs": [
        {
          "output_type": "execute_result",
          "data": {
            "text/plain": [
              "array([1, 2, 3, 4, 5, 6])"
            ]
          },
          "metadata": {},
          "execution_count": 7
        }
      ]
    },
    {
      "cell_type": "code",
      "source": [
        "#creat an array\n",
        "a=np.array([1,2,3,4,5])\n",
        "#save the array to a binary file\n",
        "np.save('saved_array.npy',a)"
      ],
      "metadata": {
        "id": "YTH4NDYmFDnk"
      },
      "execution_count": null,
      "outputs": []
    },
    {
      "cell_type": "code",
      "source": [
        "#load the array from th binary file\n",
        "loaded_array=np.load('saved_array.npy')\n",
        "print(\"original array:\",c)\n",
        "print(\"loaded array:\",loaded_array)"
      ],
      "metadata": {
        "colab": {
          "base_uri": "https://localhost:8080/"
        },
        "id": "I_f2ZsABFwz4",
        "outputId": "260af484-187b-470b-bb9e-cde71a0c448b"
      },
      "execution_count": null,
      "outputs": [
        {
          "output_type": "stream",
          "name": "stdout",
          "text": [
            "original array: [1 3 4 2 6 5]\n",
            "loaded array: [1 2 3 4 5]\n"
          ]
        }
      ]
    },
    {
      "cell_type": "code",
      "source": [
        "#copying\n",
        "import numpy as n\n",
        "a=n.array([1,276,63,])\n",
        "h=a.view()\n",
        "n.copy(a)\n",
        "h=a.copy\n",
        "print(h)\n",
        "print(a)\n",
        "print(arra.sort())\n"
      ],
      "metadata": {
        "colab": {
          "base_uri": "https://localhost:8080/"
        },
        "id": "WjYTEAxN_5D_",
        "outputId": "6ab5c8e5-6980-402f-8fbf-3d42141b4425"
      },
      "execution_count": null,
      "outputs": [
        {
          "output_type": "stream",
          "name": "stdout",
          "text": [
            "<built-in method copy of numpy.ndarray object at 0x7ffaaf350ed0>\n",
            "[  1 276  63]\n",
            "None\n"
          ]
        }
      ]
    },
    {
      "cell_type": "code",
      "source": [
        "#indexing\n",
        "print(arr[1])\n",
        "print(a[a<2])\n",
        "\n",
        "\n"
      ],
      "metadata": {
        "colab": {
          "base_uri": "https://localhost:8080/"
        },
        "id": "kGujJrAEA_fe",
        "outputId": "fb8681c5-ddaa-471a-dfce-448354ba2774"
      },
      "execution_count": null,
      "outputs": [
        {
          "output_type": "stream",
          "name": "stdout",
          "text": [
            "[4 5 6]\n",
            "[1]\n"
          ]
        }
      ]
    },
    {
      "cell_type": "code",
      "source": [
        "#array manipulation\n",
        "i=n.transpose(arr)\n",
        "print(i)\n",
        "print(arr.ravel())\n",
        "print(arra.reshape(3,-2))\n",
        "print(n.insert(ar,0,2))\n",
        "print(n.append(arr,arra))\n",
        "print(n.delete(ar,[2]))"
      ],
      "metadata": {
        "colab": {
          "base_uri": "https://localhost:8080/"
        },
        "id": "Sn_Ohp9uDJz5",
        "outputId": "085cd2dc-f539-4b53-d543-f7eb70514601"
      },
      "execution_count": null,
      "outputs": [
        {
          "output_type": "stream",
          "name": "stdout",
          "text": [
            "[[1 4]\n",
            " [2 5]\n",
            " [3 6]]\n",
            "[1 2 3 4 5 6]\n",
            "[[ 1  2  3]\n",
            " [10 11 12]\n",
            " [ 7  8  9]]\n",
            "[ 2  1 25 63]\n",
            "[ 1  2  3  4  5  6  1  2  3 10 11 12  7  8  9]\n",
            "[ 1 25]\n"
          ]
        }
      ]
    },
    {
      "cell_type": "code",
      "source": [
        "#splitting\n",
        "c=n.array([1,2,5])\n",
        "\n",
        "#combining\n",
        "print(n.concatenate((c,ar),axis=0))\n",
        "print(n.vstack((c,ar)))\n",
        "print(n.hstack((c,ar)))\n",
        "print(n.column_stack((c,ar)))"
      ],
      "metadata": {
        "colab": {
          "base_uri": "https://localhost:8080/"
        },
        "id": "exLF0je7L_cp",
        "outputId": "ebf7802d-9d7f-429d-9fcd-50c2a2b761c4"
      },
      "execution_count": null,
      "outputs": [
        {
          "output_type": "stream",
          "name": "stdout",
          "text": [
            "[array([[1],\n",
            "       [4]]), array([[2],\n",
            "       [5]]), array([[3],\n",
            "       [6]])]\n",
            "[array([[1, 2, 3]]), array([[4, 5, 6]])]\n",
            "[ 1  2  5  1 25 63]\n",
            "[[ 1  2  5]\n",
            " [ 1 25 63]]\n",
            "[ 1  2  5  1 25 63]\n",
            "[[ 1  1]\n",
            " [ 2 25]\n",
            " [ 5 63]]\n"
          ]
        }
      ]
    },
    {
      "cell_type": "code",
      "source": [
        "#arith\n",
        "print(ar-arr)\n",
        "print(n.multiply(a, arr))\n",
        "print(n.exp(a))\n",
        "print(n.sin(a))\n",
        "print(n.log(a))\n",
        "print(n.cos(a))\n",
        "print(n.divide(a, ar))\n",
        "print(n.subtract(a, arr))"
      ],
      "metadata": {
        "id": "ECZywe3SDJ3P",
        "colab": {
          "base_uri": "https://localhost:8080/"
        },
        "outputId": "2d411840-e044-48db-9ce0-91ac80cffe43"
      },
      "execution_count": null,
      "outputs": [
        {
          "output_type": "stream",
          "name": "stdout",
          "text": [
            "[[ 0 23 60]\n",
            " [-3 20 57]]\n",
            "[[ 4  8 12]\n",
            " [16 20 24]]\n",
            "54.598150033144236\n",
            "-0.7568024953079282\n",
            "1.3862943611198906\n",
            "-0.6536436208636119\n",
            "[4.         0.16       0.06349206]\n",
            "[[ 3  2  1]\n",
            " [ 0 -1 -2]]\n"
          ]
        }
      ]
    },
    {
      "cell_type": "code",
      "source": [
        "#comparison\n",
        "print(a==ar)\n",
        "print(a<3)\n",
        "print(n.array_equal(a, arr))"
      ],
      "metadata": {
        "colab": {
          "base_uri": "https://localhost:8080/"
        },
        "id": "ILjO7mABNDUI",
        "outputId": "1a91b0c4-ce5e-43e4-bd3f-292fbcfa9d92"
      },
      "execution_count": null,
      "outputs": [
        {
          "output_type": "stream",
          "name": "stdout",
          "text": [
            "[False False False]\n",
            "False\n",
            "False\n"
          ]
        }
      ]
    }
  ]
}